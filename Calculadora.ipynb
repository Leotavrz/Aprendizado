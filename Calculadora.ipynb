{
 "cells": [
  {
   "cell_type": "code",
   "execution_count": 37,
   "id": "642df0bf",
   "metadata": {},
   "outputs": [
    {
     "name": "stdout",
     "output_type": "stream",
     "text": [
      "\n",
      "Selecione operação desejado: \n",
      "\n",
      "1 - Soma\n",
      "2 - Subtração\n",
      "3 - Multiplicação\n",
      "4 - Divisão\n",
      "5 - Potência\n",
      "6 - Raiz Quadrada\n",
      "\n",
      " Digite sua opção (1/2/3/4/5/6): 6\n",
      "\n",
      "Digite o primeiro número: 36\n",
      "\n",
      "\n",
      "²V 36.0 = 6.0\n",
      "\n",
      "\n"
     ]
    }
   ],
   "source": [
    "def add(x,y):\n",
    "    return x + y\n",
    "def subtract(x,y):\n",
    "    return x - y\n",
    "def multiply(x,y):\n",
    "    return x * y\n",
    "def divide(x,y):\n",
    "    return x / y\n",
    "def potencion(x,y):\n",
    "    return x ** y\n",
    "\n",
    "\n",
    "print(\"\\nSelecione operação desejado: \\n\")\n",
    "print(\"1 - Soma\")\n",
    "print(\"2 - Subtração\")\n",
    "print(\"3 - Multiplicação\")\n",
    "print(\"4 - Divisão\")\n",
    "print(\"5 - Potência\")\n",
    "print(\"6 - Raiz Quadrada\")\n",
    "\n",
    "escolha = input(\"\\n Digite sua opção (1/2/3/4/5/6): \")\n",
    "if escolha == '6':\n",
    "    num1 = float(input(\"\\nDigite o primeiro número: \"))\n",
    "    num2 = 0.5\n",
    "    print(\"\\n\")\n",
    "    print(\"²V\", num1, \"=\", potencion(num1, num2))\n",
    "    print(\"\\n\")\n",
    "elif escolha == '1':\n",
    "    num1 = float(input(\"\\nDigite o primeiro número: \"))\n",
    "    num2 = float(input(\"\\nDigite o segundo número: \"))\n",
    "    print(\"\\n\")\n",
    "    print(num1,\"+\", num2, \"=\", add(num1, num2))\n",
    "    print(\"\\n\")\n",
    "elif escolha == \"2\":\n",
    "    num1 = float(input(\"\\nDigite o primeiro número: \"))\n",
    "    num2 = float(input(\"\\nDigite o segundo número: \"))\n",
    "    print(\"\\n\")\n",
    "    print(num1,\"-\", num2, \"=\", subtract(num1, num2))\n",
    "    print(\"\\n\")\n",
    "elif escolha == \"3\":\n",
    "    num1 = float(input(\"\\nDigite o primeiro número: \"))\n",
    "    num2 = float(input(\"\\nDigite o segundo número: \"))\n",
    "    print(\"\\n\")\n",
    "    print(num1,\"*\", num2, \"=\", multiply(num1, num2))\n",
    "    print(\"\\n\")\n",
    "elif escolha == \"4\":\n",
    "    num1 = float(input(\"\\nDigite o primeiro número: \"))\n",
    "    num2 = float(input(\"\\nDigite o segundo número: \"))\n",
    "    print(\"\\n\")\n",
    "    print(num1,\"/\", num2, \"=\", divide(num1, num2))\n",
    "    print(\"\\n\")\n",
    "elif escolha == \"5\":\n",
    "    num1 = float(input(\"\\nDigite o primeiro número: \"))\n",
    "    num2 = float(input(\"\\nDigite o segundo número: \"))\n",
    "    print(\"\\n\")\n",
    "    print(num1,\"^\", num2, \"=\", potencion(num1, num2))\n",
    "    print(\"\\n\")\n",
    "else:\n",
    "    print(\"\\nOpção inválida!\")"
   ]
  }
 ],
 "metadata": {
  "kernelspec": {
   "display_name": "Python 3 (ipykernel)",
   "language": "python",
   "name": "python3"
  },
  "language_info": {
   "codemirror_mode": {
    "name": "ipython",
    "version": 3
   },
   "file_extension": ".py",
   "mimetype": "text/x-python",
   "name": "python",
   "nbconvert_exporter": "python",
   "pygments_lexer": "ipython3",
   "version": "3.9.12"
  }
 },
 "nbformat": 4,
 "nbformat_minor": 5
}
