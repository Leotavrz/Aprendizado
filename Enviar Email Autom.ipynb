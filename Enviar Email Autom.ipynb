{
 "cells": [
  {
   "cell_type": "code",
   "execution_count": 39,
   "id": "828bb0f2",
   "metadata": {},
   "outputs": [
    {
     "name": "stdin",
     "output_type": "stream",
     "text": [
      "\n",
      "Olá, prezado(a). Segue currículo em anexo para vaga de Auxiliar de Financeiro\n"
     ]
    },
    {
     "name": "stdout",
     "output_type": "stream",
     "text": [
      "\n",
      "Espero atender requisitos desejados.\n",
      "\n",
      "At.te,\n",
      "Rafaela Campelo\n"
     ]
    }
   ],
   "source": [
    "a = input(\"\\nOlá, prezado(a). Segue currículo em anexo para vaga de\")\n",
    "print(\"\\nEspero atender requisitos desejados.\"\"\\n\"\"\\nAt.te,\"\"\\nRafaela Campelo\")"
   ]
  },
  {
   "cell_type": "code",
   "execution_count": 26,
   "id": "c2c5419a-481e-4f8e-8ad0-56dc16c553f8",
   "metadata": {},
   "outputs": [
    {
     "name": "stdin",
     "output_type": "stream",
     "text": [
      " leo_phili@hotmail.com\n",
      " teste\n",
      " rafiza1@hotmail.com\n",
      " \"C:/Users/sergi/Desktop/Arquivo Morto/CV_Leonardo_Rezende.pdf\"\n"
     ]
    },
    {
     "name": "stdout",
     "output_type": "stream",
     "text": [
      "Arquivo não encontrado: \"C:/Users/sergi/Desktop/Arquivo Morto/CV_Leonardo_Rezende.pdf\"\n"
     ]
    }
   ],
   "source": [
    "import win32com.client as win32\n",
    "import os\n",
    "# Configurações do e-mail\n",
    "a = \"Olá, prezado(a). Segue currículo em anexo para  \"\n",
    "b = \"\\nEspero atender requisitos desejados\"\"\\nAt.te,\"\"\\nLeonardo Rezende\"\n",
    "destinatario = input()\n",
    "assunto = input()\n",
    "corpo = a + assunto + b\n",
    "\n",
    "# Anexar arquivos (opcional)\n",
    "caminho_anexo = r\"C:\\Users\\sergi\\Desktop\\Arquivo Morto\\CV_Leonardo_Rezende.pdf\"  # Altere para o caminho do seu arquivo, se necessário.\n",
    "\n",
    "if not os.path.exists(caminho_anexo):\n",
    "    print(f\"Arquivo não encontrado: {caminho_anexo}\")\n",
    "else:\n",
    "    print(f\"Caminho do arquivo encontrado: {caminho_anexo}\")\n",
    "    \n",
    "    # Teste de abertura do arquivo para ver se o Python tem acesso\n",
    "    try:\n",
    "        with open(caminho_anexo, 'rb') as f:\n",
    "            print(\"O arquivo pode ser aberto com sucesso.\")\n",
    "    except Exception as e:\n",
    "        print(f\"Erro ao abrir o arquivo: {e}\")\n",
    "\n",
    "    # Automação de e-mail com Outlook\n",
    "    try:\n",
    "        outlook = win32.Dispatch(\"Outlook.Application\")\n",
    "        mail = outlook.CreateItem(0)\n",
    "        mail.To = destinatario\n",
    "        mail.Subject = assunto\n",
    "        mail.Body = corpo\n",
    "\n",
    "        # Adicionar o anexo\n",
    "        mail.Attachments.Add(caminho_anexo)\n",
    "        print(\"Anexo adicionado com sucesso.\")\n",
    "\n",
    "        # Enviar o e-mail\n",
    "        mail.Send()\n",
    "        print(\"E-mail enviado com sucesso!\")\n",
    "    except Exception as e:\n",
    "        print(f\"Erro ao enviar o e-mail: {e}\")"
   ]
  },
  {
   "cell_type": "code",
   "execution_count": 33,
   "id": "6207b3f6-01cb-44c7-a78f-09b260caebbb",
   "metadata": {},
   "outputs": [
    {
     "name": "stdin",
     "output_type": "stream",
     "text": [
      " rafiza1@hotmail.com\n",
      " rafapig123\n",
      " rafiza1@hotmail.com\n",
      " teste\n"
     ]
    },
    {
     "ename": "SMTPAuthenticationError",
     "evalue": "(535, b'5.7.139 Authentication unsuccessful, basic authentication is disabled. [ROAP284CA0310.BRAP284.PROD.OUTLOOK.COM 2024-11-13T02:53:45.003Z 08DD0306E3B0FA28]')",
     "output_type": "error",
     "traceback": [
      "\u001b[1;31m---------------------------------------------------------------------------\u001b[0m",
      "\u001b[1;31mSMTPAuthenticationError\u001b[0m                   Traceback (most recent call last)",
      "Cell \u001b[1;32mIn[33], line 47\u001b[0m\n\u001b[0;32m     44\u001b[0m body \u001b[38;5;241m=\u001b[39m a \u001b[38;5;241m+\u001b[39m subject \u001b[38;5;241m+\u001b[39m b\n\u001b[0;32m     45\u001b[0m attachment_path \u001b[38;5;241m=\u001b[39m \u001b[38;5;124mr\u001b[39m\u001b[38;5;124m\"\u001b[39m\u001b[38;5;124mC:\u001b[39m\u001b[38;5;124m\\\u001b[39m\u001b[38;5;124mUsers\u001b[39m\u001b[38;5;124m\\\u001b[39m\u001b[38;5;124msergi\u001b[39m\u001b[38;5;124m\\\u001b[39m\u001b[38;5;124mDesktop\u001b[39m\u001b[38;5;124m\\\u001b[39m\u001b[38;5;124mArquivo Morto\u001b[39m\u001b[38;5;124m\\\u001b[39m\u001b[38;5;124mCurriculo_Rafaela_Campelo.pdf\u001b[39m\u001b[38;5;124m\"\u001b[39m\n\u001b[1;32m---> 47\u001b[0m send_email_with_attachment(to_address, subject, body, attachment_path)\n",
      "Cell \u001b[1;32mIn[33], line 35\u001b[0m, in \u001b[0;36msend_email_with_attachment\u001b[1;34m(to_address, subject, body, attachment_path)\u001b[0m\n\u001b[0;32m     33\u001b[0m \u001b[38;5;28;01mwith\u001b[39;00m smtplib\u001b[38;5;241m.\u001b[39mSMTP(smtp_server, smtp_port) \u001b[38;5;28;01mas\u001b[39;00m server:\n\u001b[0;32m     34\u001b[0m     server\u001b[38;5;241m.\u001b[39mstarttls()  \u001b[38;5;66;03m# Ativar segurança TLS\u001b[39;00m\n\u001b[1;32m---> 35\u001b[0m     server\u001b[38;5;241m.\u001b[39mlogin(user_email, password)\n\u001b[0;32m     36\u001b[0m     server\u001b[38;5;241m.\u001b[39msend_message(msg)\n\u001b[0;32m     37\u001b[0m     \u001b[38;5;28mprint\u001b[39m(\u001b[38;5;124m\"\u001b[39m\u001b[38;5;124mE-mail enviado com sucesso!\u001b[39m\u001b[38;5;124m\"\u001b[39m)\n",
      "File \u001b[1;32m~\\Documents\\Arquivos de Programas\\Python\\Lib\\smtplib.py:750\u001b[0m, in \u001b[0;36mSMTP.login\u001b[1;34m(self, user, password, initial_response_ok)\u001b[0m\n\u001b[0;32m    747\u001b[0m         last_exception \u001b[38;5;241m=\u001b[39m e\n\u001b[0;32m    749\u001b[0m \u001b[38;5;66;03m# We could not login successfully.  Return result of last attempt.\u001b[39;00m\n\u001b[1;32m--> 750\u001b[0m \u001b[38;5;28;01mraise\u001b[39;00m last_exception\n",
      "File \u001b[1;32m~\\Documents\\Arquivos de Programas\\Python\\Lib\\smtplib.py:739\u001b[0m, in \u001b[0;36mSMTP.login\u001b[1;34m(self, user, password, initial_response_ok)\u001b[0m\n\u001b[0;32m    737\u001b[0m method_name \u001b[38;5;241m=\u001b[39m \u001b[38;5;124m'\u001b[39m\u001b[38;5;124mauth_\u001b[39m\u001b[38;5;124m'\u001b[39m \u001b[38;5;241m+\u001b[39m authmethod\u001b[38;5;241m.\u001b[39mlower()\u001b[38;5;241m.\u001b[39mreplace(\u001b[38;5;124m'\u001b[39m\u001b[38;5;124m-\u001b[39m\u001b[38;5;124m'\u001b[39m, \u001b[38;5;124m'\u001b[39m\u001b[38;5;124m_\u001b[39m\u001b[38;5;124m'\u001b[39m)\n\u001b[0;32m    738\u001b[0m \u001b[38;5;28;01mtry\u001b[39;00m:\n\u001b[1;32m--> 739\u001b[0m     (code, resp) \u001b[38;5;241m=\u001b[39m \u001b[38;5;28mself\u001b[39m\u001b[38;5;241m.\u001b[39mauth(\n\u001b[0;32m    740\u001b[0m         authmethod, \u001b[38;5;28mgetattr\u001b[39m(\u001b[38;5;28mself\u001b[39m, method_name),\n\u001b[0;32m    741\u001b[0m         initial_response_ok\u001b[38;5;241m=\u001b[39minitial_response_ok)\n\u001b[0;32m    742\u001b[0m     \u001b[38;5;66;03m# 235 == 'Authentication successful'\u001b[39;00m\n\u001b[0;32m    743\u001b[0m     \u001b[38;5;66;03m# 503 == 'Error: already authenticated'\u001b[39;00m\n\u001b[0;32m    744\u001b[0m     \u001b[38;5;28;01mif\u001b[39;00m code \u001b[38;5;129;01min\u001b[39;00m (\u001b[38;5;241m235\u001b[39m, \u001b[38;5;241m503\u001b[39m):\n",
      "File \u001b[1;32m~\\Documents\\Arquivos de Programas\\Python\\Lib\\smtplib.py:662\u001b[0m, in \u001b[0;36mSMTP.auth\u001b[1;34m(self, mechanism, authobject, initial_response_ok)\u001b[0m\n\u001b[0;32m    660\u001b[0m \u001b[38;5;28;01mif\u001b[39;00m code \u001b[38;5;129;01min\u001b[39;00m (\u001b[38;5;241m235\u001b[39m, \u001b[38;5;241m503\u001b[39m):\n\u001b[0;32m    661\u001b[0m     \u001b[38;5;28;01mreturn\u001b[39;00m (code, resp)\n\u001b[1;32m--> 662\u001b[0m \u001b[38;5;28;01mraise\u001b[39;00m SMTPAuthenticationError(code, resp)\n",
      "\u001b[1;31mSMTPAuthenticationError\u001b[0m: (535, b'5.7.139 Authentication unsuccessful, basic authentication is disabled. [ROAP284CA0310.BRAP284.PROD.OUTLOOK.COM 2024-11-13T02:53:45.003Z 08DD0306E3B0FA28]')"
     ]
    }
   ],
   "source": [
    "import smtplib\n",
    "from email.mime.multipart import MIMEMultipart\n",
    "from email.mime.text import MIMEText\n",
    "from email.mime.base import MIMEBase\n",
    "from email import encoders\n",
    "\n",
    "# Configurações do servidor SMTP\n",
    "smtp_server = \"smtp.office365.com\"  # Servidor do Outlook\n",
    "smtp_port = 587  # Porta padrão para TLS\n",
    "user_email = input()  # Seu e-mail\n",
    "password = input()  # Sua senha ou senha de aplicativo\n",
    "\n",
    "# Função para enviar e-mail com anexo\n",
    "def send_email_with_attachment(to_address, subject, body, attachment_path):\n",
    "    # Criar o e-mail\n",
    "    msg = MIMEMultipart()\n",
    "    msg['From'] = user_email\n",
    "    msg['To'] = to_address\n",
    "    msg['Subject'] = subject\n",
    "\n",
    "    # Corpo do e-mail\n",
    "    msg.attach(MIMEText(body, 'plain'))\n",
    "\n",
    "    # Anexo\n",
    "    attachment = open(attachment_path, \"rb\")\n",
    "    part = MIMEBase('application', 'octet-stream')\n",
    "    part.set_payload(attachment.read())\n",
    "    encoders.encode_base64(part)\n",
    "    part.add_header('Content-Disposition', f\"attachment; filename= {attachment_path.split('/')[-1]}\")\n",
    "    msg.attach(part)\n",
    "\n",
    "    # Conectar ao servidor e enviar o e-mail\n",
    "    with smtplib.SMTP(smtp_server, smtp_port) as server:\n",
    "        server.starttls()  # Ativar segurança TLS\n",
    "        server.login(user_email, password)\n",
    "        server.send_message(msg)\n",
    "        print(\"E-mail enviado com sucesso!\")\n",
    "\n",
    "# Exemplo de uso\n",
    "a = \"Olá, prezado(a). Segue currículo em anexo para  \"\n",
    "b = \"\\nEspero atender requisitos desejados\"\"\\nAt.te,\"\"\\nRafaela Campelo\"\n",
    "to_address = input()\n",
    "subject = input()\n",
    "body = a + subject + b\n",
    "attachment_path = r\"C:\\Users\\sergi\\Desktop\\Arquivo Morto\\Curriculo_Rafaela_Campelo.pdf\"\n",
    "\n",
    "send_email_with_attachment(to_address, subject, body, attachment_path)"
   ]
  },
  {
   "cell_type": "code",
   "execution_count": null,
   "id": "b98e9a6d-aa9d-46f4-b0e5-0614312e4228",
   "metadata": {},
   "outputs": [],
   "source": []
  }
 ],
 "metadata": {
  "kernelspec": {
   "display_name": "Python 3 (ipykernel)",
   "language": "python",
   "name": "python3"
  },
  "language_info": {
   "codemirror_mode": {
    "name": "ipython",
    "version": 3
   },
   "file_extension": ".py",
   "mimetype": "text/x-python",
   "name": "python",
   "nbconvert_exporter": "python",
   "pygments_lexer": "ipython3",
   "version": "3.11.7"
  }
 },
 "nbformat": 4,
 "nbformat_minor": 5
}
